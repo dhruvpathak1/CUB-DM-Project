{
 "cells": [
  {
   "cell_type": "code",
   "execution_count": 15,
   "id": "8e4666ca-4c69-453b-8a2c-bcb2866f52bb",
   "metadata": {},
   "outputs": [
    {
     "name": "stdout",
     "output_type": "stream",
     "text": [
      "Decision Tree Accuracy: 0.6357615894039735\n",
      "\n",
      "Confusion Matrix for Decision Tree:\n",
      " [[220  76]\n",
      " [ 89  68]]\n",
      "\n",
      "Decision Tree Classification Report:\n",
      "\n",
      "              precision    recall  f1-score   support\n",
      "\n",
      "           0       0.71      0.74      0.73       296\n",
      "           1       0.47      0.43      0.45       157\n",
      "\n"
     ]
    }
   ],
   "source": [
    "import pandas as pd\n",
    "from sklearn.tree import DecisionTreeClassifier\n",
    "from sklearn.model_selection import train_test_split\n",
    "from sklearn.metrics import accuracy_score, confusion_matrix, classification_report\n",
    "from sklearn.preprocessing import StandardScaler\n",
    "from sklearn.impute import SimpleImputer\n",
    "\n",
    "file_path = r\"C:\\Users\\ashwi\\Desktop\\MS\\SEM 1 Courses\\Data Mining\\Data Mining Project\\justetf_updated.xlsx\"\n",
    "df = pd.read_excel(file_path)\n",
    "\n",
    "# Step 1: Handle missing values in the dataset\n",
    "imputer = SimpleImputer(strategy='mean')\n",
    "df[['fundSizeMillions', 'yearDividendYield', 'currentDividendYield',\n",
    "    'fiveYearReturnPerRiskCUR']] = imputer.fit_transform(df[['fundSizeMillions', 'yearDividendYield', \n",
    "                                                             'currentDividendYield', 'fiveYearReturnPerRiskCUR']])\n",
    "\n",
    "# Step 2: Create a binary target column based on fiveYearReturnPerRiskCUR\n",
    "threshold = df['fiveYearReturnPerRiskCUR'].median()  # Using median to classify as high or low return\n",
    "df['highReturn'] = (df['fiveYearReturnPerRiskCUR'] > threshold).astype(int)  # 1 for high return, 0 for low return\n",
    "\n",
    "# Step 3: Define features and target\n",
    "X = df[['fundSizeMillions', 'yearDividendYield', 'currentDividendYield', \n",
    "        'exposureSector_Technology', 'exposureSector_Consumer Staples', 'exposureSector_Industrials', \n",
    "        'exposureSector_Consumer Discretionary', 'exposureSector_Financials', 'exposureSector_Basic Materials', \n",
    "        'exposureSector_Real Estate', 'exposureSector_Utilities', 'exposureSector_Energy', 'exposureSector_Health Care',\n",
    "        'exposureCountry_United States', 'exposureSector_Telecommunication']]  # Features\n",
    "\n",
    "y = df['highReturn']  # Target column\n",
    "\n",
    "# Step 4: Split the data into training and testing sets\n",
    "X_train, X_test, y_train, y_test = train_test_split(X, y, test_size=0.2, random_state=42)\n",
    "\n",
    "# Step 5: Feature Scaling (if required, especially for algorithms sensitive to scaling)\n",
    "scaler = StandardScaler()\n",
    "X_train_scaled = scaler.fit_transform(X_train)\n",
    "X_test_scaled = scaler.transform(X_test)\n",
    "\n",
    "# Step 6: Train the Decision Tree Classifier model\n",
    "dt_classifier = DecisionTreeClassifier(random_state=42)\n",
    "dt_classifier.fit(X_train_scaled, y_train)\n",
    "\n",
    "# Step 7: Make predictions\n",
    "y_pred = dt_classifier.predict(X_test_scaled)\n",
    "\n",
    "# Step 8: Evaluate the model\n",
    "accuracy = accuracy_score(y_test, y_pred)\n",
    "conf_matrix = confusion_matrix(y_test, y_pred)\n",
    "class_report = classification_report(y_test, y_pred)\n",
    "\n",
    "# Print results\n",
    "print(f\"Decision Tree Accuracy: {accuracy}\")\n",
    "print(\"\\nConfusion Matrix for Decision Tree:\\n\", conf_matrix)\n",
    "\n",
    "# Modify the classification report: split by lines and exclude the last three lines\n",
    "class_report_lines = class_report.splitlines()[:-3]\n",
    "\n",
    "# Print the modified classification report\n",
    "print(\"\\nDecision Tree Classification Report:\\n\")\n",
    "for line in class_report_lines:\n",
    "    print(line)\n"
   ]
  },
  {
   "cell_type": "code",
   "execution_count": null,
   "id": "000f4ee1-b48b-42a2-b793-90294030fc92",
   "metadata": {},
   "outputs": [],
   "source": []
  }
 ],
 "metadata": {
  "kernelspec": {
   "display_name": "Python 3 (ipykernel)",
   "language": "python",
   "name": "python3"
  },
  "language_info": {
   "codemirror_mode": {
    "name": "ipython",
    "version": 3
   },
   "file_extension": ".py",
   "mimetype": "text/x-python",
   "name": "python",
   "nbconvert_exporter": "python",
   "pygments_lexer": "ipython3",
   "version": "3.12.6"
  }
 },
 "nbformat": 4,
 "nbformat_minor": 5
}
