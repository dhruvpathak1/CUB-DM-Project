{
 "cells": [
  {
   "cell_type": "code",
   "execution_count": 8,
   "id": "f62adc5d-2c34-4807-ab57-e6bb8407459c",
   "metadata": {},
   "outputs": [
    {
     "name": "stdout",
     "output_type": "stream",
     "text": [
      "Random Forest Accuracy: 0.6975717439293598\n",
      "\n",
      "Confusion Matrix for Random Forest:\n",
      " [[247  49]\n",
      " [ 88  69]]\n",
      "\n",
      "Random Forest Classification Report:\n",
      "\n",
      "              precision    recall  f1-score   support\n",
      "\n",
      "           0       0.74      0.83      0.78       296\n",
      "           1       0.58      0.44      0.50       157\n",
      "\n"
     ]
    }
   ],
   "source": [
    "# Import necessary libraries\n",
    "import pandas as pd\n",
    "from sklearn.ensemble import RandomForestClassifier\n",
    "from sklearn.model_selection import train_test_split\n",
    "from sklearn.metrics import accuracy_score, confusion_matrix, classification_report\n",
    "from sklearn.preprocessing import StandardScaler\n",
    "from sklearn.impute import SimpleImputer\n",
    "\n",
    "# Load the dataset\n",
    "file_path = r\"C:\\Users\\ashwi\\Desktop\\MS\\SEM 1 Courses\\Data Mining\\Data Mining Project\\justetf_updated.xlsx\"\n",
    "df = pd.read_excel(file_path)\n",
    "\n",
    "# Step 1: Handle missing values in the dataset\n",
    "imputer = SimpleImputer(strategy='mean')\n",
    "df[['fundSizeMillions', 'yearDividendYield', 'currentDividendYield',\n",
    "    'fiveYearReturnPerRiskCUR']] = imputer.fit_transform(df[['fundSizeMillions', 'yearDividendYield', \n",
    "                                                             'currentDividendYield', 'fiveYearReturnPerRiskCUR']])\n",
    "\n",
    "# Step 2: Create a binary target column based on fiveYearReturnPerRiskCUR\n",
    "threshold = df['fiveYearReturnPerRiskCUR'].median()  # Using median to classify as high or low return\n",
    "df['highReturn'] = (df['fiveYearReturnPerRiskCUR'] > threshold).astype(int)  # 1 for high return, 0 for low return\n",
    "\n",
    "# Step 3: Define features and target\n",
    "X = df[['fundSizeMillions', 'yearDividendYield', 'currentDividendYield', \n",
    "        'exposureSector_Technology', 'exposureSector_Consumer Staples', 'exposureSector_Industrials', \n",
    "        'exposureSector_Consumer Discretionary', 'exposureSector_Financials', 'exposureSector_Basic Materials', \n",
    "        'exposureSector_Real Estate', 'exposureSector_Utilities', 'exposureSector_Energy', 'exposureSector_Health Care',\n",
    "        'exposureCountry_United States', 'exposureSector_Telecommunication']]  # Features\n",
    "\n",
    "y = df['highReturn']  # Target column (binary: high or low return)\n",
    "\n",
    "# Step 4: Split the data into training and testing sets\n",
    "X_train, X_test, y_train, y_test = train_test_split(X, y, test_size=0.2, random_state=42)\n",
    "\n",
    "# Step 5: Feature Scaling (if required, especially for algorithms sensitive to scaling)\n",
    "scaler = StandardScaler()\n",
    "X_train_scaled = scaler.fit_transform(X_train)\n",
    "X_test_scaled = scaler.transform(X_test)\n",
    "\n",
    "# Step 6: Train the Random Forest Classifier model\n",
    "rf_classifier = RandomForestClassifier(random_state=42)\n",
    "rf_classifier.fit(X_train_scaled, y_train)\n",
    "\n",
    "# Step 7: Make predictions\n",
    "y_pred_rf = rf_classifier.predict(X_test_scaled)\n",
    "\n",
    "# Step 8: Evaluate Random Forest model\n",
    "accuracy_rf = accuracy_score(y_test, y_pred_rf)\n",
    "conf_matrix_rf = confusion_matrix(y_test, y_pred_rf)\n",
    "class_report_rf = classification_report(y_test, y_pred_rf)\n",
    "\n",
    "# Print Random Forest results\n",
    "print(f\"Random Forest Accuracy: {accuracy_rf}\")\n",
    "print(\"\\nConfusion Matrix for Random Forest:\\n\", conf_matrix_rf)\n",
    "class_report_rf_lines = class_report_rf.splitlines()[:-3]\n",
    "print(\"\\nRandom Forest Classification Report:\\n\")\n",
    "for line in class_report_rf_lines:\n",
    "    print(line)\n"
   ]
  },
  {
   "cell_type": "code",
   "execution_count": null,
   "id": "f0b5942c-e886-4cfe-9e0c-4024236fbef5",
   "metadata": {},
   "outputs": [],
   "source": []
  }
 ],
 "metadata": {
  "kernelspec": {
   "display_name": "Python 3 (ipykernel)",
   "language": "python",
   "name": "python3"
  },
  "language_info": {
   "codemirror_mode": {
    "name": "ipython",
    "version": 3
   },
   "file_extension": ".py",
   "mimetype": "text/x-python",
   "name": "python",
   "nbconvert_exporter": "python",
   "pygments_lexer": "ipython3",
   "version": "3.12.6"
  }
 },
 "nbformat": 4,
 "nbformat_minor": 5
}
